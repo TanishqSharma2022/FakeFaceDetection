{
  "nbformat": 4,
  "nbformat_minor": 0,
  "metadata": {
    "colab": {
      "provenance": []
    },
    "kernelspec": {
      "name": "python3",
      "display_name": "Python 3"
    },
    "language_info": {
      "name": "python"
    }
  },
  "cells": [
    {
      "cell_type": "code",
      "execution_count": 1,
      "metadata": {
        "colab": {
          "base_uri": "https://localhost:8080/"
        },
        "id": "_KIqKMwgQF80",
        "outputId": "71ffa063-a275-4e78-99d9-aca429aac786"
      },
      "outputs": [
        {
          "output_type": "stream",
          "name": "stdout",
          "text": [
            "Mounted at /content/drive\n"
          ]
        }
      ],
      "source": [
        "from google.colab import drive\n",
        "drive.mount('/content/drive')\n"
      ]
    },
    {
      "cell_type": "code",
      "source": [
        "real_dir = '/content/drive/My Drive/dspdataset/real'\n",
        "fake_dir = '/content/drive/My Drive/dspdataset/fake'"
      ],
      "metadata": {
        "id": "FiHxZJAnUtNa"
      },
      "execution_count": 2,
      "outputs": []
    },
    {
      "cell_type": "code",
      "source": [
        "import os\n",
        "\n",
        "print(\"Real Images:\", os.listdir(real_dir)[:5])  # Display first 5 images in real folder\n",
        "print(\"Fake Images:\", os.listdir(fake_dir)[:5])  # Display first 5 images in fake folder\n"
      ],
      "metadata": {
        "colab": {
          "base_uri": "https://localhost:8080/"
        },
        "id": "8Cgc9E_CVCEr",
        "outputId": "c5a349f0-989f-48a7-9177-17c103ee43ae"
      },
      "execution_count": 3,
      "outputs": [
        {
          "output_type": "stream",
          "name": "stdout",
          "text": [
            "Real Images: ['real_00002.jpg', 'real_00005.jpg', 'real_00349.jpg', 'real_00003.jpg', 'real_00350.jpg']\n",
            "Fake Images: ['easy_98_0001.jpg', 'easy_99_0101.jpg', 'easy_12_1110.jpg', 'easy_4_0011.jpg', 'easy_10_0001.jpg']\n"
          ]
        }
      ]
    },
    {
      "cell_type": "code",
      "source": [
        "# Import necessary libraries\n",
        "import os\n",
        "import numpy as np\n",
        "import cv2\n",
        "from sklearn.ensemble import RandomForestClassifier\n",
        "from sklearn.metrics import accuracy_score, classification_report, confusion_matrix\n",
        "from sklearn.model_selection import train_test_split\n",
        "from sklearn.utils import shuffle\n",
        "from tensorflow.keras.applications import ResNet50\n",
        "from tensorflow.keras.applications.resnet import preprocess_input\n",
        "from tensorflow.keras.models import Model\n",
        "from google.colab import drive"
      ],
      "metadata": {
        "id": "UZkP7DPVVH3u"
      },
      "execution_count": 4,
      "outputs": []
    },
    {
      "cell_type": "code",
      "source": [
        "IMG_SIZE = 128  # Resized image dimensions\n",
        "\n",
        "# Load images\n",
        "def load_images_from_folder(folder, label):\n",
        "    images = []\n",
        "    labels = []\n",
        "    for filename in os.listdir(folder):\n",
        "        img_path = os.path.join(folder, filename)\n",
        "        img = cv2.imread(img_path)  # Read image\n",
        "        if img is not None:\n",
        "            img = cv2.resize(img, (IMG_SIZE, IMG_SIZE))  # Resize image to 128x128\n",
        "            images.append(img)\n",
        "            labels.append(label)  # 0 for real, 1 for fake\n",
        "    return np.array(images), np.array(labels)"
      ],
      "metadata": {
        "id": "bIvtgBW5VfcL"
      },
      "execution_count": 5,
      "outputs": []
    },
    {
      "cell_type": "code",
      "source": [
        "# Load images and labels\n",
        "real_images, real_labels = load_images_from_folder(real_dir, label=0)\n",
        "fake_images, fake_labels = load_images_from_folder(fake_dir, label=1)\n",
        "\n",
        "# Combine images and labels\n",
        "X = np.concatenate((real_images, fake_images), axis=0)\n",
        "y = np.concatenate((real_labels, fake_labels), axis=0)\n",
        "\n",
        "# Shuffle dataset\n",
        "X, y = shuffle(X, y, random_state=42)\n",
        "\n",
        "# Normalize images to [0, 1]\n",
        "X = X / 255.0\n",
        "\n",
        "# Display dataset information\n",
        "print(f\"Total images loaded: {len(X)}\")\n",
        "print(f\"Shape of images: {X.shape}\")  # Expected shape: (num_samples, 128, 128, 3)\n",
        "print(f\"Shape of labels: {y.shape}\")\n",
        "\n",
        "# Split dataset\n",
        "X_train, X_test, y_train, y_test = train_test_split(X, y, test_size=0.2, random_state=42)\n"
      ],
      "metadata": {
        "colab": {
          "base_uri": "https://localhost:8080/"
        },
        "id": "SYQyiNgSVqpB",
        "outputId": "545dcb2f-ab12-4ac8-dfbd-413b1b88ea19"
      },
      "execution_count": 6,
      "outputs": [
        {
          "output_type": "stream",
          "name": "stdout",
          "text": [
            "Total images loaded: 660\n",
            "Shape of images: (660, 128, 128, 3)\n",
            "Shape of labels: (660,)\n"
          ]
        }
      ]
    },
    {
      "cell_type": "code",
      "source": [
        "# Initialize ResNet50 for feature extraction\n",
        "base_model = ResNet50(weights='imagenet', include_top=False, input_shape=(IMG_SIZE, IMG_SIZE, 3))\n",
        "feature_extractor = Model(inputs=base_model.input, outputs=base_model.layers[-2].output)  # Remove last layer\n"
      ],
      "metadata": {
        "colab": {
          "base_uri": "https://localhost:8080/"
        },
        "id": "PS48VB5YWKY6",
        "outputId": "a3221282-0bbb-4750-b2a1-c24c6340c447"
      },
      "execution_count": 7,
      "outputs": [
        {
          "output_type": "stream",
          "name": "stdout",
          "text": [
            "Downloading data from https://storage.googleapis.com/tensorflow/keras-applications/resnet/resnet50_weights_tf_dim_ordering_tf_kernels_notop.h5\n",
            "\u001b[1m94765736/94765736\u001b[0m \u001b[32m━━━━━━━━━━━━━━━━━━━━\u001b[0m\u001b[37m\u001b[0m \u001b[1m1s\u001b[0m 0us/step\n"
          ]
        }
      ]
    },
    {
      "cell_type": "code",
      "source": [
        "def extract_features(data):\n",
        "    data = preprocess_input(data)  # Preprocess for ResNet\n",
        "    features = feature_extractor.predict(data)\n",
        "    return features.reshape(features.shape[0], -1)  # Flatten the features"
      ],
      "metadata": {
        "id": "u4w-5LqhWQzI"
      },
      "execution_count": 8,
      "outputs": []
    },
    {
      "cell_type": "code",
      "source": [
        "# Extract features using ResNet\n",
        "X_train_features = extract_features(X_train)\n",
        "X_test_features = extract_features(X_test)\n"
      ],
      "metadata": {
        "colab": {
          "base_uri": "https://localhost:8080/"
        },
        "id": "kgJwLBhCWWP7",
        "outputId": "9f555f9d-bd5d-4ebe-e7c2-ca3062955a1f"
      },
      "execution_count": 9,
      "outputs": [
        {
          "output_type": "stream",
          "name": "stdout",
          "text": [
            "\u001b[1m17/17\u001b[0m \u001b[32m━━━━━━━━━━━━━━━━━━━━\u001b[0m\u001b[37m\u001b[0m \u001b[1m38s\u001b[0m 2s/step\n",
            "\u001b[1m5/5\u001b[0m \u001b[32m━━━━━━━━━━━━━━━━━━━━\u001b[0m\u001b[37m\u001b[0m \u001b[1m10s\u001b[0m 2s/step\n"
          ]
        }
      ]
    },
    {
      "cell_type": "code",
      "source": [
        "print(f\"Shape of extracted train features: {X_train_features.shape}\")\n",
        "print(f\"Shape of extracted test features: {X_test_features.shape}\")"
      ],
      "metadata": {
        "colab": {
          "base_uri": "https://localhost:8080/"
        },
        "id": "MwOWuRrYWnTI",
        "outputId": "1ad2aa39-645d-4f65-d758-551dba840387"
      },
      "execution_count": 10,
      "outputs": [
        {
          "output_type": "stream",
          "name": "stdout",
          "text": [
            "Shape of extracted train features: (528, 32768)\n",
            "Shape of extracted test features: (132, 32768)\n"
          ]
        }
      ]
    },
    {
      "cell_type": "code",
      "source": [
        "# Train Random Forest classifier\n",
        "clf = RandomForestClassifier(n_estimators=100, random_state=42)\n",
        "clf.fit(X_train_features, y_train)\n",
        "\n",
        "# Predict on test set\n",
        "y_pred = clf.predict(X_test_features)"
      ],
      "metadata": {
        "id": "fCczu15RWsjD"
      },
      "execution_count": 11,
      "outputs": []
    },
    {
      "cell_type": "code",
      "source": [
        "# Evaluate the model\n",
        "accuracy = accuracy_score(y_test, y_pred)\n",
        "print(f\"Accuracy: {accuracy:.2f}\")\n",
        "print(\"Classification Report:\\n\", classification_report(y_test, y_pred))\n",
        "print(\"Confusion Matrix:\\n\", confusion_matrix(y_test, y_pred))"
      ],
      "metadata": {
        "colab": {
          "base_uri": "https://localhost:8080/"
        },
        "id": "3u_TZkoJWzZF",
        "outputId": "6f43761f-5b98-4119-c74b-85147cb3c116"
      },
      "execution_count": 12,
      "outputs": [
        {
          "output_type": "stream",
          "name": "stdout",
          "text": [
            "Accuracy: 0.61\n",
            "Classification Report:\n",
            "               precision    recall  f1-score   support\n",
            "\n",
            "           0       0.65      0.70      0.67        76\n",
            "           1       0.54      0.48      0.51        56\n",
            "\n",
            "    accuracy                           0.61       132\n",
            "   macro avg       0.59      0.59      0.59       132\n",
            "weighted avg       0.60      0.61      0.60       132\n",
            "\n",
            "Confusion Matrix:\n",
            " [[53 23]\n",
            " [29 27]]\n"
          ]
        }
      ]
    }
  ]
}