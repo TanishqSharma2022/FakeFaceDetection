{
  "cells": [
    {
      "cell_type": "code",
      "execution_count": 32,
      "metadata": {
        "colab": {
          "base_uri": "https://localhost:8080/"
        },
        "id": "UfDO2yHJcENQ",
        "outputId": "7bf701ad-4455-4ae4-d8fd-f60814580206"
      },
      "outputs": [
        {
          "output_type": "stream",
          "name": "stdout",
          "text": [
            "Drive already mounted at /content/drive; to attempt to forcibly remount, call drive.mount(\"/content/drive\", force_remount=True).\n"
          ]
        }
      ],
      "source": [
        "from google.colab import drive\n",
        "drive.mount('/content/drive')\n"
      ]
    },
    {
      "cell_type": "code",
      "execution_count": 33,
      "metadata": {
        "id": "cag7YFaTcaL7"
      },
      "outputs": [],
      "source": [
        "real_dir = '/content/drive/My Drive/dataset/real'\n",
        "fake_dir = '/content/drive/My Drive/dataset/fake'"
      ]
    },
    {
      "cell_type": "code",
      "execution_count": 34,
      "metadata": {
        "colab": {
          "base_uri": "https://localhost:8080/"
        },
        "id": "3NHgEc50cfyd",
        "outputId": "0bfbb80e-89ef-4031-fcb3-6c9a717b2fad"
      },
      "outputs": [
        {
          "output_type": "stream",
          "name": "stdout",
          "text": [
            "Real Images: ['real_00118.jpg', 'real_00119.jpg', 'real_00114.jpg', 'real_00101.jpg', 'real_00110.jpg']\n",
            "Fake Images: ['mid_470_1001.jpg', 'mid_471_1111.jpg', 'mid_469_1111.jpg', 'mid_474_1110.jpg', 'easy_8_0010.jpg']\n"
          ]
        }
      ],
      "source": [
        "import os\n",
        "\n",
        "print(\"Real Images:\", os.listdir(real_dir)[:5])  # Display first 5 images in real folder\n",
        "print(\"Fake Images:\", os.listdir(fake_dir)[:5])  # Display first 5 images in fake folder\n"
      ]
    },
    {
      "cell_type": "code",
      "source": [
        "import torch\n",
        "import torch.nn as nn\n",
        "import torch.optim as optim\n",
        "from torchvision import datasets, models, transforms\n",
        "from torch.utils.data import DataLoader, Dataset\n",
        "from sklearn.metrics import confusion_matrix, classification_report\n",
        "import matplotlib.pyplot as plt\n",
        "import seaborn as sns\n",
        "import os\n",
        "from PIL import Image\n",
        "import numpy as np\n"
      ],
      "metadata": {
        "id": "8aY_H11IxflF"
      },
      "execution_count": 35,
      "outputs": []
    },
    {
      "cell_type": "code",
      "execution_count": 36,
      "metadata": {
        "id": "k4gkTaoUcszg"
      },
      "outputs": [],
      "source": [
        "# Parameters\n",
        "IMG_SIZE = 128\n",
        "BATCH_SIZE = 32\n",
        "EPOCHS = 10\n",
        "LEARNING_RATE = 1e-4\n",
        "DEVICE = 'cuda' if torch.cuda.is_available() else 'cpu'\n",
        "\n",
        "# Define custom dataset\n",
        "class CustomDataset(Dataset):\n",
        "    def __init__(self, image_dir, transform=None, label=0):\n",
        "        self.image_dir = image_dir\n",
        "        self.transform = transform\n",
        "        self.label = label\n",
        "        self.images = os.listdir(image_dir)\n",
        "\n",
        "    def __len__(self):\n",
        "        return len(self.images)\n",
        "\n",
        "    def __getitem__(self, idx):\n",
        "        img_path = os.path.join(self.image_dir, self.images[idx])\n",
        "        image = Image.open(img_path).convert(\"RGB\")\n",
        "        if self.transform:\n",
        "            image = self.transform(image)\n",
        "        return image, self.label\n",
        "\n",
        "# Transforms for the dataset\n",
        "transform = transforms.Compose([\n",
        "    transforms.Resize((IMG_SIZE, IMG_SIZE)),\n",
        "    transforms.ToTensor(),\n",
        "    transforms.Normalize(mean=[0.485, 0.456, 0.406], std=[0.229, 0.224, 0.225])\n",
        "])\n",
        "\n",
        "\n",
        "real_dataset = CustomDataset(real_dir, transform=transform, label=0)\n",
        "fake_dataset = CustomDataset(fake_dir, transform=transform, label=1)\n",
        "\n",
        "# Combine datasets\n",
        "dataset = torch.utils.data.ConcatDataset([real_dataset, fake_dataset])\n",
        "\n",
        "# Split into train and test\n",
        "train_size = int(0.8 * len(dataset))\n",
        "test_size = len(dataset) - train_size\n",
        "train_dataset, test_dataset = torch.utils.data.random_split(dataset, [train_size, test_size])\n",
        "\n",
        "train_loader = DataLoader(train_dataset, batch_size=BATCH_SIZE, shuffle=True)\n",
        "test_loader = DataLoader(test_dataset, batch_size=BATCH_SIZE, shuffle=False)\n"
      ]
    },
    {
      "cell_type": "code",
      "execution_count": 37,
      "metadata": {
        "id": "HUDG3HvhcwpR",
        "colab": {
          "base_uri": "https://localhost:8080/"
        },
        "outputId": "af12a508-1eaa-465d-e00b-db1ac98aa5b2"
      },
      "outputs": [
        {
          "output_type": "stream",
          "name": "stderr",
          "text": [
            "/usr/local/lib/python3.10/dist-packages/torchvision/models/_utils.py:208: UserWarning: The parameter 'pretrained' is deprecated since 0.13 and may be removed in the future, please use 'weights' instead.\n",
            "  warnings.warn(\n",
            "/usr/local/lib/python3.10/dist-packages/torchvision/models/_utils.py:223: UserWarning: Arguments other than a weight enum or `None` for 'weights' are deprecated since 0.13 and may be removed in the future. The current behavior is equivalent to passing `weights=ResNet50_Weights.IMAGENET1K_V1`. You can also use `weights=ResNet50_Weights.DEFAULT` to get the most up-to-date weights.\n",
            "  warnings.warn(msg)\n",
            "Downloading: \"https://download.pytorch.org/models/resnet50-0676ba61.pth\" to /root/.cache/torch/hub/checkpoints/resnet50-0676ba61.pth\n",
            "100%|██████████| 97.8M/97.8M [00:01<00:00, 58.5MB/s]\n"
          ]
        }
      ],
      "source": [
        "# Load pre-trained ResNet50\n",
        "resnet = models.resnet50(pretrained=True)\n",
        "\n",
        "# Modify the final layer for binary classification\n",
        "num_features = resnet.fc.in_features\n",
        "resnet.fc = nn.Linear(num_features, 2)\n",
        "\n",
        "# Move model to GPU/CPU\n",
        "model = resnet.to(DEVICE)\n"
      ]
    },
    {
      "cell_type": "code",
      "execution_count": 38,
      "metadata": {
        "id": "F1l8rBD3c3rv"
      },
      "outputs": [],
      "source": [
        "# Define loss function and optimizer\n",
        "criterion = nn.CrossEntropyLoss()\n",
        "optimizer = optim.Adam(model.parameters(), lr=LEARNING_RATE)\n",
        "\n",
        "# Training function\n",
        "def train_model(model, train_loader, optimizer, criterion, epochs):\n",
        "    model.train()\n",
        "    for epoch in range(epochs):\n",
        "        running_loss = 0.0\n",
        "        correct = 0\n",
        "        total = 0\n",
        "        for inputs, labels in train_loader:\n",
        "            inputs, labels = inputs.to(DEVICE), labels.to(DEVICE)\n",
        "\n",
        "            # Zero the gradient\n",
        "            optimizer.zero_grad()\n",
        "\n",
        "            # Forward pass\n",
        "            outputs = model(inputs)\n",
        "            loss = criterion(outputs, labels)\n",
        "\n",
        "            # Backward pass and optimization\n",
        "            loss.backward()\n",
        "            optimizer.step()\n",
        "\n",
        "            # Metrics\n",
        "            running_loss += loss.item()\n",
        "            _, predicted = torch.max(outputs, 1)\n",
        "            total += labels.size(0)\n",
        "            correct += (predicted == labels).sum().item()\n",
        "\n",
        "        accuracy = 100 * correct / total\n",
        "        print(f\"Epoch {epoch + 1}/{epochs}, Loss: {running_loss:.4f}, Accuracy: {accuracy:.2f}%\")\n",
        "\n",
        "# Evaluation function\n",
        "def evaluate_model(model, test_loader):\n",
        "    model.eval()\n",
        "    y_true = []\n",
        "    y_pred = []\n",
        "    with torch.no_grad():\n",
        "        for inputs, labels in test_loader:\n",
        "            inputs, labels = inputs.to(DEVICE), labels.to(DEVICE)\n",
        "            outputs = model(inputs)\n",
        "            _, predicted = torch.max(outputs, 1)\n",
        "            y_true.extend(labels.cpu().numpy())\n",
        "            y_pred.extend(predicted.cpu().numpy())\n",
        "    return y_true, y_pred\n"
      ]
    },
    {
      "cell_type": "code",
      "source": [
        "# Train the model\n",
        "train_model(model, train_loader, optimizer, criterion, EPOCHS)\n",
        "\n",
        "# Evaluate the model\n",
        "y_true, y_pred = evaluate_model(model, test_loader)\n",
        "\n",
        "# Confusion matrix and classification report\n",
        "conf_matrix = confusion_matrix(y_true, y_pred)\n",
        "\n",
        "# Visualize confusion matrix\n",
        "plt.figure(figsize=(6, 6))\n",
        "sns.heatmap(conf_matrix, annot=True, fmt='d', cmap='Blues', xticklabels=['Real', 'Fake'], yticklabels=['Real', 'Fake'])\n",
        "plt.xlabel('Predicted')\n",
        "plt.ylabel('Actual')\n",
        "plt.title('Confusion Matrix')\n",
        "plt.show()\n",
        "\n",
        "# Print classification report\n",
        "print(\"Classification Report:\")\n",
        "print(classification_report(y_true, y_pred, target_names=['Real', 'Fake']))\n"
      ],
      "metadata": {
        "colab": {
          "base_uri": "https://localhost:8080/",
          "height": 911
        },
        "id": "VH8wMKHyygNK",
        "outputId": "a898f6cb-d764-4356-b1bc-78ebd0d165ac"
      },
      "execution_count": 39,
      "outputs": [
        {
          "output_type": "stream",
          "name": "stdout",
          "text": [
            "Epoch 1/10, Loss: 34.8136, Accuracy: 64.20%\n",
            "Epoch 2/10, Loss: 16.5066, Accuracy: 87.57%\n",
            "Epoch 3/10, Loss: 7.7299, Accuracy: 95.26%\n",
            "Epoch 4/10, Loss: 6.4417, Accuracy: 95.74%\n",
            "Epoch 5/10, Loss: 6.1932, Accuracy: 96.76%\n",
            "Epoch 6/10, Loss: 3.6274, Accuracy: 97.78%\n",
            "Epoch 7/10, Loss: 4.1937, Accuracy: 97.42%\n",
            "Epoch 8/10, Loss: 5.8776, Accuracy: 97.60%\n",
            "Epoch 9/10, Loss: 3.5011, Accuracy: 98.08%\n",
            "Epoch 10/10, Loss: 2.0303, Accuracy: 99.10%\n"
          ]
        },
        {
          "output_type": "display_data",
          "data": {
            "text/plain": [
              "<Figure size 600x600 with 2 Axes>"
            ],
            "image/png": "[encoded data removed]"
          },
          "metadata": {}
        },
        {
          "output_type": "stream",
          "name": "stdout",
          "text": [
            "Classification Report:\n",
            "              precision    recall  f1-score   support\n",
            "\n",
            "        Real       0.73      0.74      0.74       223\n",
            "        Fake       0.70      0.69      0.69       194\n",
            "\n",
            "    accuracy                           0.72       417\n",
            "   macro avg       0.72      0.72      0.72       417\n",
            "weighted avg       0.72      0.72      0.72       417\n",
            "\n"
          ]
        }
      ]
    }
  ],
  "metadata": {
    "colab": {
      "provenance": []
    },
    "kernelspec": {
      "display_name": "Python 3",
      "name": "python3"
    },
    "language_info": {
      "name": "python"
    }
  },
  "nbformat": 4,
  "nbformat_minor": 0
}